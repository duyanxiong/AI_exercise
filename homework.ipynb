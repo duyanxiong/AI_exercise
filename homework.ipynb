{
 "cells": [
  {
   "cell_type": "code",
   "execution_count": 49,
   "metadata": {
    "collapsed": true
   },
   "outputs": [],
   "source": [
    "do_something = '''\n",
    "句子 => 主语 事情\n",
    "主语 => 你 | 我 | 他 | 小猫咪\n",
    "事情 => 限定词 做事 | 做事\n",
    "限定词 => 时间 | 地点 | 时间 地点\n",
    "时间 => 早上 | 中午 | 晚上 | 深夜\n",
    "地点 => 在兰州 | 在广州 | 在小学校 | 在大公司\n",
    "做事 => 游戏 | 回家 | 上班 | 作业\n",
    "游戏 => 玩游戏 | 看直播 | 肝活动\n",
    "玩游戏 => 玩三国 | 王者开黑 | 肝手游\n",
    "看直播 => 看五五开 | 看羽毛速通\n",
    "回家 => 到家 | 交通工具 到家\n",
    "上班 => 加班 | 打卡\n",
    "交通工具 => 坐汽车 | 开车 | 开碰碰车\n",
    "作业 => 不想做作业\n",
    "'''\n",
    "zoo = '''\n",
    "pandas day=> 熊猫 搞事情 \n",
    "熊猫=> 小熊猫 | 大熊猫 | 饲养员\n",
    "搞事情=> 位置 事情 | 时间 事情 | 事情 | 位置 时间 事情\n",
    "位置=> 动物园 笼子里 \n",
    "饲养员=> 熊猫和饲养员 | 熊猫和奶妈 | 奶妈\n",
    "动物园=> 在狮子山 | 在猴山 | 在游览车\n",
    "事情=> 吃饭 | 睡觉 | 表演\n",
    "吃饭=> 吃竹子 | 喝牛奶 | 吃蛋糕\n",
    "表演=> 表演睡觉 | 打滚儿\n",
    "'''\n",
    "\n",
    "import random"
   ]
  },
  {
   "cell_type": "code",
   "execution_count": 132,
   "metadata": {},
   "outputs": [
    {
     "data": {
      "text/plain": [
       "{0: '你晚上不想做作业',\n",
       " 1: '小猫咪早上在兰州肝活动',\n",
       " 2: '他不想做作业',\n",
       " 3: '他肝活动',\n",
       " 4: '你中午在广州开碰碰车到家',\n",
       " 5: '他看五五开',\n",
       " 6: '他打卡',\n",
       " 7: '他不想做作业',\n",
       " 8: '你开车到家',\n",
       " 9: '我早上在广州肝活动',\n",
       " 10: '他玩三国',\n",
       " 11: '我肝手游',\n",
       " 12: '我玩三国',\n",
       " 13: '你在广州打卡',\n",
       " 14: '你不想做作业',\n",
       " 15: '你深夜不想做作业',\n",
       " 16: '我中午在大公司不想做作业',\n",
       " 17: '我早上打卡',\n",
       " 18: '他王者开黑',\n",
       " 19: '他晚上加班'}"
      ]
     },
     "execution_count": 132,
     "metadata": {},
     "output_type": "execute_result"
    }
   ],
   "source": [
    "import random\n",
    "def generate(grammar : str, initial_sentence, split_pot):\n",
    "    result = {}\n",
    "    for line in grammar.split('\\n'):\n",
    "        if not line: continue\n",
    "        expression, formula = line.split(split_pot)        \n",
    "        formulas = formula.split('|')\n",
    "        formulas = [f.split() for f in formulas]\n",
    "        result[expression.strip()] = formulas\n",
    "    return result\n",
    "generate(do_something, 'sentence', '=>')\n",
    "def generate_grammar(grammar: dict, x: str):\n",
    "    if x not in grammar: return x\n",
    "    one_grammar = random.choice(grammar[x])\n",
    "    return ''.join(generate_grammar(grammar, n)for n in one_grammar)\n",
    "def achieve_result(grammar, initial_sentence, split_pot, number):\n",
    "    grammar = generate(grammar, initial_sentence, split_pot)\n",
    "    result = {}\n",
    "    for i in range(number):\n",
    "        result[i] = generate_grammar(grammar, initial_sentence)\n",
    "    return result\n",
    "\n",
    "achieve_result(do_something, '句子', '=>', 20)\n"
   ]
  },
  {
   "cell_type": "code",
   "execution_count": 292,
   "metadata": {},
   "outputs": [
    {
     "name": "stderr",
     "output_type": "stream",
     "text": [
      "D:\\anaconda\\lib\\site-packages\\IPython\\core\\interactiveshell.py:2698: DtypeWarning: Columns (0,4) have mixed types. Specify dtype option on import or set low_memory=False.\n",
      "  interactivity=interactivity, compiler=compiler, result=result)\n"
     ]
    },
    {
     "data": {
      "text/html": [
       "<div>\n",
       "<style>\n",
       "    .dataframe thead tr:only-child th {\n",
       "        text-align: right;\n",
       "    }\n",
       "\n",
       "    .dataframe thead th {\n",
       "        text-align: left;\n",
       "    }\n",
       "\n",
       "    .dataframe tbody tr th {\n",
       "        vertical-align: top;\n",
       "    }\n",
       "</style>\n",
       "<table border=\"1\" class=\"dataframe\">\n",
       "  <thead>\n",
       "    <tr style=\"text-align: right;\">\n",
       "      <th></th>\n",
       "      <th>id</th>\n",
       "      <th>link</th>\n",
       "      <th>name</th>\n",
       "      <th>comment</th>\n",
       "      <th>star</th>\n",
       "    </tr>\n",
       "  </thead>\n",
       "  <tbody>\n",
       "    <tr>\n",
       "      <th>0</th>\n",
       "      <td>1</td>\n",
       "      <td>https://movie.douban.com/subject/26363254/</td>\n",
       "      <td>战狼2</td>\n",
       "      <td>吴京意淫到了脑残的地步，看了恶心想吐</td>\n",
       "      <td>1</td>\n",
       "    </tr>\n",
       "    <tr>\n",
       "      <th>1</th>\n",
       "      <td>2</td>\n",
       "      <td>https://movie.douban.com/subject/26363254/</td>\n",
       "      <td>战狼2</td>\n",
       "      <td>首映礼看的。太恐怖了这个电影，不讲道理的，完全就是吴京在实现他这个小粉红的英雄梦。各种装备轮...</td>\n",
       "      <td>2</td>\n",
       "    </tr>\n",
       "    <tr>\n",
       "      <th>2</th>\n",
       "      <td>3</td>\n",
       "      <td>https://movie.douban.com/subject/26363254/</td>\n",
       "      <td>战狼2</td>\n",
       "      <td>吴京的炒作水平不输冯小刚，但小刚至少不会用主旋律来炒作…吴京让人看了不舒服，为了主旋律而主旋...</td>\n",
       "      <td>2</td>\n",
       "    </tr>\n",
       "    <tr>\n",
       "      <th>3</th>\n",
       "      <td>4</td>\n",
       "      <td>https://movie.douban.com/subject/26363254/</td>\n",
       "      <td>战狼2</td>\n",
       "      <td>凭良心说，好看到不像《战狼1》的续集，完虐《湄公河行动》。</td>\n",
       "      <td>4</td>\n",
       "    </tr>\n",
       "    <tr>\n",
       "      <th>4</th>\n",
       "      <td>5</td>\n",
       "      <td>https://movie.douban.com/subject/26363254/</td>\n",
       "      <td>战狼2</td>\n",
       "      <td>中二得很</td>\n",
       "      <td>1</td>\n",
       "    </tr>\n",
       "  </tbody>\n",
       "</table>\n",
       "</div>"
      ],
      "text/plain": [
       "  id                                        link name  \\\n",
       "0  1  https://movie.douban.com/subject/26363254/  战狼2   \n",
       "1  2  https://movie.douban.com/subject/26363254/  战狼2   \n",
       "2  3  https://movie.douban.com/subject/26363254/  战狼2   \n",
       "3  4  https://movie.douban.com/subject/26363254/  战狼2   \n",
       "4  5  https://movie.douban.com/subject/26363254/  战狼2   \n",
       "\n",
       "                                             comment star  \n",
       "0                                 吴京意淫到了脑残的地步，看了恶心想吐    1  \n",
       "1  首映礼看的。太恐怖了这个电影，不讲道理的，完全就是吴京在实现他这个小粉红的英雄梦。各种装备轮...    2  \n",
       "2  吴京的炒作水平不输冯小刚，但小刚至少不会用主旋律来炒作…吴京让人看了不舒服，为了主旋律而主旋...    2  \n",
       "3                      凭良心说，好看到不像《战狼1》的续集，完虐《湄公河行动》。    4  \n",
       "4                                               中二得很    1  "
      ]
     },
     "execution_count": 292,
     "metadata": {},
     "output_type": "execute_result"
    }
   ],
   "source": [
    "filename = 'movie_comments.csv'\n",
    "def prob_2(word1, word2):\n",
    "    if word1 + word2 in words_count_2: return words_count_2[word1+word2] / words_count[word2]\n",
    "    else:\n",
    "        return 1 / len(words_count)\n",
    "import pandas as pd\n",
    "content = pd.read_csv(filename, encoding='UTF-8')    \n",
    "content.head()"
   ]
  },
  {
   "cell_type": "code",
   "execution_count": 174,
   "metadata": {
    "collapsed": true
   },
   "outputs": [],
   "source": [
    "import re\n",
    "from collections import Counter\n",
    "comments = content['comment'].tolist()\n",
    "comment = [''.join(re.findall('\\w+', str(i)))for i in comments]\n",
    "\n"
   ]
  },
  {
   "cell_type": "code",
   "execution_count": 75,
   "metadata": {
    "collapsed": true
   },
   "outputs": [],
   "source": [
    "with open('comments.txt', 'w', encoding = 'UTF-8') as f:\n",
    "    for a in comment:\n",
    "        f.write(a + '\\n')\n"
   ]
  },
  {
   "cell_type": "code",
   "execution_count": 80,
   "metadata": {},
   "outputs": [
    {
     "name": "stdout",
     "output_type": "stream",
     "text": [
      "0\n",
      "10000\n",
      "20000\n",
      "30000\n",
      "40000\n",
      "50000\n",
      "60000\n",
      "70000\n",
      "80000\n",
      "90000\n",
      "100000\n",
      "110000\n",
      "120000\n",
      "130000\n",
      "140000\n",
      "150000\n",
      "160000\n",
      "170000\n",
      "180000\n",
      "190000\n",
      "200000\n",
      "210000\n",
      "220000\n",
      "230000\n",
      "240000\n",
      "250000\n",
      "260000\n"
     ]
    }
   ],
   "source": [
    "import jieba\n",
    "TOKEN = []\n",
    "for i, line in enumerate((open('comments.txt', encoding = 'UTF-8'))):\n",
    "    if i % 10000 == 0: print(i)\n",
    "    TOKEN += list(jieba.cut(line))\n",
    "with open('comments_cut.txt', 'w', encoding = 'UTF-8') as f:\n",
    "    for a in TOKEN:\n",
    "        f.write(a + '\\n')"
   ]
  },
  {
   "cell_type": "code",
   "execution_count": 220,
   "metadata": {
    "collapsed": true
   },
   "outputs": [],
   "source": [
    "from collections import Counter\n",
    "words_count = Counter(TOKEN)\n",
    "TOKEN_GRAM_2 = [''.join(TOKEN[i:i+2]) for i in range(len(TOKEN[:-2]))]\n",
    "words_count_2 = Counter(TOKEN_GRAM_2)"
   ]
  },
  {
   "cell_type": "code",
   "execution_count": 257,
   "metadata": {
    "collapsed": true
   },
   "outputs": [],
   "source": [
    "\n",
    "def prob_2(word1, word2, word3):\n",
    "    if word1 + word2 + word3 in words_count_2: return words_count_2[word1+word2+word3] / words_count[word2]\n",
    "    else:\n",
    "        return 1 / len(words_count)\n",
    "    \n",
    "def get_probablity(sentence):\n",
    "    words = list(jieba.cut(sentence))\n",
    "    \n",
    "    sentence_pro = 1\n",
    "    \n",
    "    for i, word in enumerate(words[:-2]):\n",
    "        next_1 = words[i+1]\n",
    "        next_2 = words[i+2]\n",
    "        probability = prob_2(word, next_1, next_2)\n",
    "        \n",
    "        sentence_pro *= probability\n",
    "    \n",
    "    return [sentence_pro, sentence]"
   ]
  },
  {
   "cell_type": "code",
   "execution_count": 291,
   "metadata": {},
   "outputs": [
    {
     "name": "stdout",
     "output_type": "stream",
     "text": [
      "[[1, '你打卡'], [1, '小猫咪加班'], [6.082984068664724e-06, '你不想做作业'], [6.082984068664724e-06, '他不想做作业'], [6.082984068664724e-06, '我早上到家'], [6.082984068664724e-06, '我到家'], [6.082984068664724e-06, '你不想做作业'], [6.082984068664724e-06, '他到家'], [3.7002695179628836e-11, '他在兰州到家'], [3.7002695179628836e-11, '小猫咪中午开车到家'], [3.7002695179628836e-11, '我看羽毛速通'], [2.250868052753392e-16, '小猫咪晚上在小学校打卡'], [2.250868052753392e-16, '你在大公司到家'], [2.250868052753392e-16, '我深夜开碰碰车到家'], [2.250868052753392e-16, '小猫咪在兰州肝活动'], [1.3691994505565273e-21, '小猫咪在大公司王者开黑'], [1.3691994505565273e-21, '我中午在广州开车到家'], [8.328818444559848e-27, '我晚上在兰州看羽毛速通'], [8.328818444559848e-27, '他早上在广州开碰碰车到家'], [8.328818444559848e-27, '小猫咪在大公司开碰碰车到家']]\n"
     ]
    }
   ],
   "source": [
    "def generate_best():\n",
    "    result_sentence = achieve_result(do_something, '句子', '=>', 20)\n",
    "    sentence = []\n",
    "    for i in range(20):\n",
    "        sentence += [get_probablity(result_sentence[i])]\n",
    "    sentence = sorted(sentence, key = lambda x: x[0], reverse=True)\n",
    "    return sentence\n",
    "print(generate_best())        "
   ]
  },
  {
   "cell_type": "code",
   "execution_count": null,
   "metadata": {
    "collapsed": true
   },
   "outputs": [],
   "source": []
  }
 ],
 "metadata": {
  "kernelspec": {
   "display_name": "Python 3",
   "language": "python",
   "name": "python3"
  },
  "language_info": {
   "codemirror_mode": {
    "name": "ipython",
    "version": 3
   },
   "file_extension": ".py",
   "mimetype": "text/x-python",
   "name": "python",
   "nbconvert_exporter": "python",
   "pygments_lexer": "ipython3",
   "version": "3.6.3"
  }
 },
 "nbformat": 4,
 "nbformat_minor": 2
}
